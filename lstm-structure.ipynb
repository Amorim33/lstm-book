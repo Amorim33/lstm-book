{
 "cells": [
  {
   "cell_type": "markdown",
   "metadata": {},
   "source": [
    "This notebook is a POC for the LSTM basic structure.\n",
    "\n",
    "The goal is to define all the components of the LSTM and to define the forward pass."
   ]
  },
  {
   "cell_type": "code",
   "execution_count": 45,
   "metadata": {},
   "outputs": [],
   "source": [
    "from pydantic import BaseModel\n",
    "import numpy as np\n",
    "\n",
    "class Parameters(BaseModel):\n",
    "    Wf: np.ndarray # two-dimensional matrix containing weights for forget gate.\n",
    "    bf: np.ndarray # one-dimensional vector containing biases for forget gate.\n",
    "    Wi: np.ndarray # two-dimensional matrix containing weights for input gate.\n",
    "    bi: np.ndarray # one-dimensional vector containing biases for input gate.\n",
    "    Wc: np.ndarray # two-dimensional matrix containing weights for candidate cell state.\n",
    "    bc: np.ndarray # one-dimensional vector containing biases for candidate cell state.\n",
    "    Wo: np.ndarray # two-dimensional matrix containing weights for output gate.\n",
    "    bo: np.ndarray # one-dimensional vector containing biases for output gate.\n",
    "    \n",
    "    class Config:\n",
    "        arbitrary_types_allowed = True\n",
    "        \n",
    "    \n",
    "\n",
    "class LSTM(BaseModel):\n",
    "    ft: np.ndarray # one-dimensional vector containing forget gate values.\n",
    "    it: np.ndarray # one-dimensional vector containing input gate values.\n",
    "    cct: np.ndarray # one-dimensional vector containing candidate cell state values.\n",
    "    ct: np.ndarray # one-dimensional vector containing cell state values.\n",
    "    ot: np.ndarray # one-dimensional vector containing output gate values.\n",
    "    ht: np.ndarray # one-dimensional vector containing hidden state values.\n",
    "    \n",
    "    class Config:\n",
    "        arbitrary_types_allowed = True\n",
    "        \n",
    "    \n",
    "def sigmoid(x: np.ndarray):\n",
    "    return 1 / (1 + np.exp(-x))\n",
    "\n",
    "def lstm_forward(x: np.ndarray, ht_0: np.ndarray, parameters: Parameters):\n",
    "    # x: input data for all time steps, shape (n_x, m, T_x)\n",
    "    # ht_0: initial hidden state, shape (n_a, m)\n",
    "    # parameters: Parameters\n",
    "    T_x = x.shape[0] # number of time steps\n",
    "    m = x.shape[1] # number of examples\n",
    "    \n",
    "    # initialize hidden state and cell state\n",
    "    ht = ht_0\n",
    "    ct = np.zeros(m) # initialize cell state as zero vector\n",
    "    \n",
    "    ft = None\n",
    "    it = None\n",
    "    cct = None\n",
    "    ot = None\n",
    "    \n",
    "    for t in range(T_x):\n",
    "        xt = x[:,t]\n",
    "        \n",
    "        u_cct, v_cct= parameters.Wc\n",
    "        cct = np.tanh(np.dot(u_cct, xt) + np.dot(v_cct, ht) + parameters.bc)\n",
    "        print(f'cct: {cct}')\n",
    "        \n",
    "        u_ft, v_ft = parameters.Wf\n",
    "        ft = sigmoid(np.dot(u_ft, xt) + np.dot(v_ft, ht) + parameters.bf)\n",
    "        print(f'ft: {ft}')\n",
    "        \n",
    "        u_it, v_it = parameters.Wi\n",
    "        it = sigmoid(np.dot(u_it, xt) + np.dot(v_it, ht) + parameters.bi)\n",
    "        print(f'it: {it}')\n",
    "        \n",
    "        ct = np.dot(ft, ct) + np.dot(ft, cct)\n",
    "        print(f'ct: {ct}')\n",
    "        \n",
    "        u_ot, v_ot = parameters.Wo\n",
    "        ot = sigmoid(np.dot(u_ot, xt) + np.dot(v_ot, ht) + parameters.bo)\n",
    "        print(f'ot: {ot}')\n",
    "        \n",
    "        ht = np.dot(ot, np.tanh(ct))\n",
    "        print(f'ht: {ht}\\n')\n",
    "    \n",
    "    return ht\n",
    "    \n",
    "    "
   ]
  },
  {
   "cell_type": "markdown",
   "metadata": {},
   "source": [
    "The classes above are defining the needed parameters and what are the LSTM components (states and gates).\n",
    "\n",
    "The function `lstm_forward` is the forward pass of the LSTM.\n",
    "\n",
    "\n",
    "\n"
   ]
  },
  {
   "cell_type": "code",
   "execution_count": 46,
   "metadata": {},
   "outputs": [
    {
     "name": "stdout",
     "output_type": "stream",
     "text": [
      "cct: [0.19737532 0.29131261 0.37994896]\n",
      "ft: [0.549834   0.57444252 0.59868766]\n",
      "it: [0.549834   0.57444252 0.59868766]\n",
      "ct: 0.5033367667404957\n",
      "ot: [0.549834   0.57444252 0.59868766]\n",
      "ht: [0.25552837 0.26696486 0.27823249]\n",
      "\n",
      "cct: [0.60603656 0.66550634 0.71757764]\n",
      "ft: [0.66877134 0.69053748 0.71149034]\n",
      "it: [0.66877134 0.69053748 0.71149034]\n",
      "ct: [1.71202372 1.72297942 1.73352576]\n",
      "ot: [0.66877134 0.69053748 0.71149034]\n",
      "ht: 1.9428700854726468\n",
      "\n",
      "cct: [0.82655019 0.89985085 0.94313866]\n",
      "ft: [0.76443463 0.81327541 0.85392486]\n",
      "it: [0.76443463 0.81327541 0.85392486]\n",
      "ct: 6.359327440546947\n",
      "ot: [0.76443463 0.81327541 0.85392486]\n",
      "ht: [0.76443005 0.81327054 0.85391974]\n",
      "\n"
     ]
    },
    {
     "data": {
      "text/plain": [
       "'final hidden state value:[0.76443005 0.81327054 0.85391974]'"
      ]
     },
     "execution_count": 46,
     "metadata": {},
     "output_type": "execute_result"
    }
   ],
   "source": [
    "# input = \"I ate cake\" vectorized as [1, 0, 0], [0, 1, 0], [0, 0, 1]\n",
    "input = np.array([[1, 0, 0], [0, 1, 0], [0, 0, 1]])\n",
    "ht_0 = np.array([0,0,0])\n",
    "\n",
    "# random parameters\n",
    "parameters = Parameters(\n",
    "    Wf=np.array([[0.1, 0.2, 0.3], [0.4, 0.5, 0.6]]),\n",
    "    bf=np.array([0.1, 0.2, 0.3]),\n",
    "    Wi=np.array([[0.1, 0.2, 0.3], [0.4, 0.5, 0.6]]),\n",
    "    bi=np.array([0.1, 0.2, 0.3]),\n",
    "    Wc=np.array([[0.1, 0.2, 0.3], [0.4, 0.5, 0.6]]),\n",
    "    bc=np.array([0.1, 0.2, 0.3]),\n",
    "    Wo=np.array([[0.1, 0.2, 0.3], [0.4, 0.5, 0.6]]),\n",
    "    bo=np.array([0.1, 0.2, 0.3])\n",
    ")\n",
    "\n",
    "forward_pass_result = lstm_forward(input, ht_0, parameters)\n",
    "\n",
    "'final hidden state value:' + str(forward_pass_result)"
   ]
  }
 ],
 "metadata": {
  "kernelspec": {
   "display_name": ".venv",
   "language": "python",
   "name": "python3"
  },
  "language_info": {
   "codemirror_mode": {
    "name": "ipython",
    "version": 3
   },
   "file_extension": ".py",
   "mimetype": "text/x-python",
   "name": "python",
   "nbconvert_exporter": "python",
   "pygments_lexer": "ipython3",
   "version": "3.10.12"
  },
  "orig_nbformat": 4
 },
 "nbformat": 4,
 "nbformat_minor": 2
}
